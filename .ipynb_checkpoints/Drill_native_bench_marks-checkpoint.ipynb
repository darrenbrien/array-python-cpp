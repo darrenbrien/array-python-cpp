{
 "cells": [
  {
   "cell_type": "code",
   "execution_count": 3,
   "metadata": {
    "collapsed": true
   },
   "outputs": [],
   "source": [
    "from query import PyQuery\n",
    "import timeit\n",
    "\n",
    "def run(connString):\n",
    "    def doRun():\n",
    "        R1 = PyQuery()\n",
    "        df = R1.get_cols(connString)\n",
    "        return df\n",
    "    return doRun\n",
    "\n",
    "native_times = {}\n",
    "for results in [1, 10, 100, 1000, 10000, 100000, 1000000, 2000000, 3000000]:\n",
    "    connString = {'query' : \"select * from dfs.flights.flights_by_yr limit {}\".format(results), \n",
    "                  'type': 'sql', \n",
    "                  'connectStr' : 'local=172.17.0.2:31010',\n",
    "                  'api' : 'async',\n",
    "                  'logLevel' : 'error'}\n",
    "    result = run(connString)\n",
    "    native_times[results] = timeit.Timer(run(connString)).repeat(repeat=3, number=1)"
   ]
  },
  {
   "cell_type": "code",
   "execution_count": 4,
   "metadata": {},
   "outputs": [
    {
     "data": {
      "text/plain": [
       "{1: [0.6987979489999816, 0.7969662340001378, 0.8942361080000865],\n",
       " 10: [0.8124586110000109, 0.819409080000014, 0.94634381700007],\n",
       " 100: [0.8407394039998053, 0.765372551999917, 0.6797357169998577],\n",
       " 1000: [0.6977197269998214, 0.728143904000035, 0.7932617680000931],\n",
       " 10000: [0.7595349660000466, 0.753889584000035, 0.7222846930001197],\n",
       " 100000: [1.108482320000121, 1.2298210730000392, 1.145731701999921],\n",
       " 1000000: [4.806802725000125, 4.824448618999895, 4.79978174200005],\n",
       " 2000000: [8.856151737000118, 8.838571978000118, 8.868313820999902],\n",
       " 3000000: [12.691886588999978, 12.555667940000149, 12.435528255999998]}"
      ]
     },
     "execution_count": 4,
     "metadata": {},
     "output_type": "execute_result"
    }
   ],
   "source": [
    "native_times"
   ]
  },
  {
   "cell_type": "code",
   "execution_count": null,
   "metadata": {
    "collapsed": true
   },
   "outputs": [],
   "source": []
  }
 ],
 "metadata": {
  "kernelspec": {
   "display_name": "Python 3",
   "language": "python",
   "name": "python3"
  },
  "language_info": {
   "codemirror_mode": {
    "name": "ipython",
    "version": 3
   },
   "file_extension": ".py",
   "mimetype": "text/x-python",
   "name": "python",
   "nbconvert_exporter": "python",
   "pygments_lexer": "ipython3",
   "version": "3.6.1"
  }
 },
 "nbformat": 4,
 "nbformat_minor": 2
}
