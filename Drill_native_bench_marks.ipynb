{
 "cells": [
  {
   "cell_type": "code",
   "execution_count": 1,
   "metadata": {
    "collapsed": true
   },
   "outputs": [],
   "source": [
    "import timeit\n",
    "import numpy as np"
   ]
  },
  {
   "cell_type": "code",
   "execution_count": 26,
   "metadata": {
    "collapsed": true
   },
   "outputs": [],
   "source": [
    "result_sets = np.logspace(0, 6, 7)"
   ]
  },
  {
   "cell_type": "code",
   "execution_count": 28,
   "metadata": {},
   "outputs": [],
   "source": [
    "from drillpy import PyQuery\n",
    "import timeit\n",
    "\n",
    "def run(connString):\n",
    "    def doRun():\n",
    "        R1 = PyQuery()\n",
    "        df = R1.get_cols(connString)\n",
    "        return df\n",
    "    return doRun\n",
    "\n",
    "native_times = {}\n",
    "for results in result_sets:\n",
    "    connString = {'query' : \"select * from dfs.flights.flights_by_yr limit {}\".format(results), \n",
    "                  'type': 'sql', \n",
    "                  'connectStr' : 'local=172.17.0.2:31010',\n",
    "                  'api' : 'async',\n",
    "                  'logLevel' : 'error'}\n",
    "    result = run(connString)\n",
    "    native_times[results] = timeit.Timer(run(connString)).repeat(repeat=3, number=1)"
   ]
  },
  {
   "cell_type": "code",
   "execution_count": 29,
   "metadata": {},
   "outputs": [
    {
     "data": {
      "text/plain": [
       "{1.0: [0.9279497339994123, 0.685328623996611, 0.6460083249985473],\n",
       " 10.0: [0.7054430649986898, 1.3593373850017088, 0.9528090790008719],\n",
       " 100.0: [0.9339452410022204, 0.8913531949983735, 0.6835905640000419],\n",
       " 1000.0: [0.8156201509991661, 0.750704031001078, 0.8666444820009929],\n",
       " 10000.0: [0.6871445959986886, 0.7085528930001601, 1.5302053099985642],\n",
       " 100000.0: [1.3375563039990084, 1.2616593450002256, 1.189920541997708],\n",
       " 1000000.0: [7.392612472001929, 5.769677295000292, 5.555417019000743]}"
      ]
     },
     "execution_count": 29,
     "metadata": {},
     "output_type": "execute_result"
    }
   ],
   "source": [
    "native_times"
   ]
  },
  {
   "cell_type": "code",
   "execution_count": 30,
   "metadata": {},
   "outputs": [],
   "source": [
    "from turbodbc import connect, make_options, Megabytes\n",
    "import pandas as pd\n",
    "import pyarrow as pa\n",
    "import pyarrow.parquet as pq\n",
    "options = make_options(read_buffer_size=Megabytes(20),\n",
    "                                           autocommit=True)\n",
    "\n",
    "conn = connect(dsn='drill', turbodbc_options=options)\n",
    "\n",
    "turbo_times = {}\n",
    "for results in result_sets:\n",
    "    sql = 'select * from dfs.flights.flights_by_yr limit {}'.format(results)\n",
    "    fun = lambda: conn.cursor().execute(sql).fetchallarrow().to_pandas()\n",
    "    turbo_times[results] = timeit.Timer(fun).repeat(repeat=3, number=1)"
   ]
  },
  {
   "cell_type": "code",
   "execution_count": null,
   "metadata": {},
   "outputs": [
    {
     "data": {
      "text/plain": [
       "{1.0: [1.551988088998769, 1.5291844490020594, 1.541293129997939],\n",
       " 10.0: [1.688088731996686, 1.4894256410007074, 1.602607671997248],\n",
       " 100.0: [1.3738734559992736, 1.2308062919983058, 1.3236386429998674],\n",
       " 1000.0: [1.4293271410024317, 1.5005177560015, 1.437558279998484],\n",
       " 10000.0: [1.654775406997942, 1.49588034000044, 1.6554415629980213],\n",
       " 100000.0: [2.1380584449980233, 2.1837525480004842, 2.3455752480003866],\n",
       " 1000000.0: [8.006138142001873, 7.352187275999313, 9.92592518499805]}"
      ]
     },
     "execution_count": 31,
     "metadata": {},
     "output_type": "execute_result"
    }
   ],
   "source": [
    "turbo_times"
   ]
  },
  {
   "cell_type": "code",
   "execution_count": null,
   "metadata": {},
   "outputs": [],
   "source": [
    "turbo_times_dict = {}\n",
    "for results in result_sets:\n",
    "    sql = 'select * from dfs.flights.flights_by_yr limit {}'.format(results)\n",
    "    fun = lambda: conn.cursor().execute(sql).fetchallarrow(strings_as_dictionary=True).to_pandas()\n",
    "    turbo_times_dict[results] = timeit.Timer(fun).repeat(repeat=3, number=1)"
   ]
  },
  {
   "cell_type": "code",
   "execution_count": null,
   "metadata": {},
   "outputs": [],
   "source": [
    "turbo_times_dict"
   ]
  },
  {
   "cell_type": "code",
   "execution_count": null,
   "metadata": {
    "collapsed": true
   },
   "outputs": [],
   "source": []
  }
 ],
 "metadata": {
  "kernelspec": {
   "display_name": "Python 3",
   "language": "python",
   "name": "python3"
  },
  "language_info": {
   "codemirror_mode": {
    "name": "ipython",
    "version": 3
   },
   "file_extension": ".py",
   "mimetype": "text/x-python",
   "name": "python",
   "nbconvert_exporter": "python",
   "pygments_lexer": "ipython3",
   "version": "3.6.1"
  }
 },
 "nbformat": 4,
 "nbformat_minor": 2
}
