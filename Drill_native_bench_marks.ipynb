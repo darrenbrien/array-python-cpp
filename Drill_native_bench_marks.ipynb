{
 "cells": [
  {
   "cell_type": "code",
   "execution_count": 2,
   "metadata": {
    "collapsed": true
   },
   "outputs": [],
   "source": [
    "import timeit\n",
    "import numpy as np"
   ]
  },
  {
   "cell_type": "code",
   "execution_count": 5,
   "metadata": {
    "collapsed": true
   },
   "outputs": [],
   "source": [
    "result_sets = np.logspace(0, 5, 6)"
   ]
  },
  {
   "cell_type": "code",
   "execution_count": 6,
   "metadata": {
    "collapsed": true
   },
   "outputs": [],
   "source": [
    "from drillpy import PyQuery\n",
    "import timeit\n",
    "\n",
    "def run(connString):\n",
    "    def doRun():\n",
    "        R1 = PyQuery()\n",
    "        df = R1.get_cols(connString)\n",
    "        return df\n",
    "    return doRun\n",
    "\n",
    "native_times = {}\n",
    "for results in result_sets:\n",
    "    connString = {'query' : \"select * from dfs.flights.flights_by_yr limit {}\".format(results), \n",
    "                  'type': 'sql', \n",
    "                  'connectStr' : 'local=172.17.0.2:31010',\n",
    "                  'api' : 'async',\n",
    "                  'logLevel' : 'error'}\n",
    "    result = run(connString)\n",
    "    native_times[results] = timeit.Timer(run(connString)).repeat(repeat=3, number=1)"
   ]
  },
  {
   "cell_type": "code",
   "execution_count": 7,
   "metadata": {},
   "outputs": [
    {
     "data": {
      "text/plain": [
       "{1.0: [0.9399796170000627, 0.8564439839974511, 0.8398932630007039],\n",
       " 10.0: [0.6567929930024548, 0.8168459950029501, 0.7582980629995291],\n",
       " 100.0: [0.7942459280020557, 1.1440514709975105, 0.7870020159971318],\n",
       " 1000.0: [1.1471055620022526, 0.8680741989992384, 1.7381350799987558],\n",
       " 10000.0: [0.8172753159997228, 0.7614589349977905, 0.9958444450021489],\n",
       " 100000.0: [1.2255906339996727, 1.2843218609996256, 1.1521839920023922]}"
      ]
     },
     "execution_count": 7,
     "metadata": {},
     "output_type": "execute_result"
    }
   ],
   "source": [
    "native_times"
   ]
  },
  {
   "cell_type": "code",
   "execution_count": 8,
   "metadata": {
    "collapsed": true
   },
   "outputs": [],
   "source": [
    "from turbodbc import connect, make_options, Megabytes\n",
    "import pandas as pd\n",
    "import pyarrow as pa\n",
    "import pyarrow.parquet as pq\n",
    "options = make_options(read_buffer_size=Megabytes(20),\n",
    "                                           autocommit=True)\n",
    "\n",
    "conn = connect(dsn='drill', turbodbc_options=options)\n",
    "\n",
    "turbo_times = {}\n",
    "for results in result_sets:\n",
    "    sql = 'select * from dfs.flights.flights_by_yr limit {}'.format(results)\n",
    "    fun = lambda: conn.cursor().execute(sql).fetchallarrow().to_pandas()\n",
    "    turbo_times[results] = timeit.Timer(fun).repeat(repeat=3, number=1)"
   ]
  },
  {
   "cell_type": "code",
   "execution_count": 9,
   "metadata": {},
   "outputs": [
    {
     "data": {
      "text/plain": [
       "{1.0: [1.427049406000151, 1.454430735000642, 1.5133645350033476],\n",
       " 10.0: [1.916845949999697, 2.1651370339968707, 2.607393256999785],\n",
       " 100.0: [5.306731958000455, 3.446397812000214, 1.7264559200011718],\n",
       " 1000.0: [1.5769829050004773, 1.5140927219981677, 1.419495639998786],\n",
       " 10000.0: [1.4182390429996303, 1.691020483001921, 1.6073000569995202],\n",
       " 100000.0: [3.178179177997663, 2.725107329999446, 2.779163975999836]}"
      ]
     },
     "execution_count": 9,
     "metadata": {},
     "output_type": "execute_result"
    }
   ],
   "source": [
    "turbo_times"
   ]
  },
  {
   "cell_type": "code",
   "execution_count": 10,
   "metadata": {
    "collapsed": true
   },
   "outputs": [],
   "source": [
    "turbo_times_dict = {}\n",
    "for results in result_sets:\n",
    "    sql = 'select * from dfs.flights.flights_by_yr limit {}'.format(results)\n",
    "    fun = lambda: conn.cursor().execute(sql).fetchallarrow(strings_as_dictionary=True).to_pandas()\n",
    "    turbo_times_dict[results] = timeit.Timer(fun).repeat(repeat=3, number=1)"
   ]
  },
  {
   "cell_type": "code",
   "execution_count": 11,
   "metadata": {},
   "outputs": [
    {
     "data": {
      "text/plain": [
       "{1.0: [1.9465457900005276, 4.112134221002634, 3.1184984110004734],\n",
       " 10.0: [1.7224633779987926, 1.6441453189981985, 1.5031782080004632],\n",
       " 100.0: [1.442834382000001, 1.5546816049973131, 1.7654160210004193],\n",
       " 1000.0: [2.6063263489995734, 2.2386571490023925, 1.743686780999269],\n",
       " 10000.0: [1.7723881370002346, 1.8055625979977776, 1.880482349999511],\n",
       " 100000.0: [2.2753090279984463, 2.5793463709997013, 2.3818587650021072]}"
      ]
     },
     "execution_count": 11,
     "metadata": {},
     "output_type": "execute_result"
    }
   ],
   "source": [
    "turbo_times_dict"
   ]
  },
  {
   "cell_type": "code",
   "execution_count": 32,
   "metadata": {},
   "outputs": [
    {
     "data": {
      "text/plain": [
       "<matplotlib.axes._subplots.AxesSubplot at 0x7f021e601b70>"
      ]
     },
     "execution_count": 32,
     "metadata": {},
     "output_type": "execute_result"
    },
    {
     "data": {
      "image/png": "[encoded data removed]",
      "text/plain": [
       "<matplotlib.figure.Figure at 0x7f021e192c88>"
      ]
     },
     "metadata": {},
     "output_type": "display_data"
    }
   ],
   "source": [
    "%matplotlib inline\n",
    "ttd = pd.DataFrame(turbo_times_dict).T.mean(axis=1)\n",
    "tt = pd.DataFrame(turbo_times).T.mean(axis=1)\n",
    "nt = pd.DataFrame(native_times).T.mean(axis=1)\n",
    "pd.DataFrame({\"turbodbc_dict\" : ttd, \"turboodc\" : tt, \"native\" : nt}).plot(logx=True)"
   ]
  },
  {
   "cell_type": "code",
   "execution_count": 38,
   "metadata": {},
   "outputs": [],
   "source": [
    "df_n = run(connString)()"
   ]
  },
  {
   "cell_type": "code",
   "execution_count": 39,
   "metadata": {},
   "outputs": [],
   "source": [
    "df_t = fun()"
   ]
  },
  {
   "cell_type": "code",
   "execution_count": 46,
   "metadata": {},
   "outputs": [
    {
     "data": {
      "text/html": [
       "<div>\n",
       "<style>\n",
       "    .dataframe thead tr:only-child th {\n",
       "        text-align: right;\n",
       "    }\n",
       "\n",
       "    .dataframe thead th {\n",
       "        text-align: left;\n",
       "    }\n",
       "\n",
       "    .dataframe tbody tr th {\n",
       "        vertical-align: top;\n",
       "    }\n",
       "</style>\n",
       "<table border=\"1\" class=\"dataframe\">\n",
       "  <thead>\n",
       "    <tr style=\"text-align: right;\">\n",
       "      <th></th>\n",
       "      <th>0</th>\n",
       "      <th>1</th>\n",
       "    </tr>\n",
       "  </thead>\n",
       "  <tbody>\n",
       "    <tr>\n",
       "      <th>ActualElapsedTime</th>\n",
       "      <td>float64</td>\n",
       "      <td>float64</td>\n",
       "    </tr>\n",
       "    <tr>\n",
       "      <th>AirTime</th>\n",
       "      <td>float64</td>\n",
       "      <td>float64</td>\n",
       "    </tr>\n",
       "    <tr>\n",
       "      <th>ArrDelay</th>\n",
       "      <td>float64</td>\n",
       "      <td>float64</td>\n",
       "    </tr>\n",
       "    <tr>\n",
       "      <th>ArrTime</th>\n",
       "      <td>float64</td>\n",
       "      <td>int32</td>\n",
       "    </tr>\n",
       "    <tr>\n",
       "      <th>CRSArrTime</th>\n",
       "      <td>int64</td>\n",
       "      <td>int32</td>\n",
       "    </tr>\n",
       "    <tr>\n",
       "      <th>CRSDepTime</th>\n",
       "      <td>int64</td>\n",
       "      <td>int32</td>\n",
       "    </tr>\n",
       "    <tr>\n",
       "      <th>CRSElapsedTime</th>\n",
       "      <td>float64</td>\n",
       "      <td>float64</td>\n",
       "    </tr>\n",
       "    <tr>\n",
       "      <th>CancellationCode</th>\n",
       "      <td>category</td>\n",
       "      <td>object</td>\n",
       "    </tr>\n",
       "    <tr>\n",
       "      <th>Cancelled</th>\n",
       "      <td>bool</td>\n",
       "      <td>bool</td>\n",
       "    </tr>\n",
       "    <tr>\n",
       "      <th>CarrierDelay</th>\n",
       "      <td>float64</td>\n",
       "      <td>int32</td>\n",
       "    </tr>\n",
       "    <tr>\n",
       "      <th>DayOfWeek</th>\n",
       "      <td>int64</td>\n",
       "      <td>int32</td>\n",
       "    </tr>\n",
       "    <tr>\n",
       "      <th>DayofMonth</th>\n",
       "      <td>int64</td>\n",
       "      <td>int32</td>\n",
       "    </tr>\n",
       "    <tr>\n",
       "      <th>DepDelay</th>\n",
       "      <td>float64</td>\n",
       "      <td>float64</td>\n",
       "    </tr>\n",
       "    <tr>\n",
       "      <th>DepTime</th>\n",
       "      <td>float64</td>\n",
       "      <td>int32</td>\n",
       "    </tr>\n",
       "    <tr>\n",
       "      <th>Dest</th>\n",
       "      <td>category</td>\n",
       "      <td>object</td>\n",
       "    </tr>\n",
       "    <tr>\n",
       "      <th>Distance</th>\n",
       "      <td>int64</td>\n",
       "      <td>int32</td>\n",
       "    </tr>\n",
       "    <tr>\n",
       "      <th>Diverted</th>\n",
       "      <td>bool</td>\n",
       "      <td>bool</td>\n",
       "    </tr>\n",
       "    <tr>\n",
       "      <th>FlightNum</th>\n",
       "      <td>int64</td>\n",
       "      <td>int32</td>\n",
       "    </tr>\n",
       "    <tr>\n",
       "      <th>LateAircraftDelay</th>\n",
       "      <td>float64</td>\n",
       "      <td>int32</td>\n",
       "    </tr>\n",
       "    <tr>\n",
       "      <th>Month</th>\n",
       "      <td>int64</td>\n",
       "      <td>int32</td>\n",
       "    </tr>\n",
       "    <tr>\n",
       "      <th>NASDelay</th>\n",
       "      <td>float64</td>\n",
       "      <td>int32</td>\n",
       "    </tr>\n",
       "    <tr>\n",
       "      <th>Origin</th>\n",
       "      <td>category</td>\n",
       "      <td>object</td>\n",
       "    </tr>\n",
       "    <tr>\n",
       "      <th>SecurityDelay</th>\n",
       "      <td>float64</td>\n",
       "      <td>int32</td>\n",
       "    </tr>\n",
       "    <tr>\n",
       "      <th>TailNum</th>\n",
       "      <td>category</td>\n",
       "      <td>object</td>\n",
       "    </tr>\n",
       "    <tr>\n",
       "      <th>TaxiIn</th>\n",
       "      <td>int64</td>\n",
       "      <td>int32</td>\n",
       "    </tr>\n",
       "    <tr>\n",
       "      <th>TaxiOut</th>\n",
       "      <td>int64</td>\n",
       "      <td>int32</td>\n",
       "    </tr>\n",
       "    <tr>\n",
       "      <th>UniqueCarrier</th>\n",
       "      <td>category</td>\n",
       "      <td>object</td>\n",
       "    </tr>\n",
       "    <tr>\n",
       "      <th>WeatherDelay</th>\n",
       "      <td>float64</td>\n",
       "      <td>int32</td>\n",
       "    </tr>\n",
       "    <tr>\n",
       "      <th>YEAR</th>\n",
       "      <td>int64</td>\n",
       "      <td>int32</td>\n",
       "    </tr>\n",
       "    <tr>\n",
       "      <th>ts</th>\n",
       "      <td>datetime64[ns]</td>\n",
       "      <td>datetime64[ns]</td>\n",
       "    </tr>\n",
       "  </tbody>\n",
       "</table>\n",
       "</div>"
      ],
      "text/plain": [
       "                                0               1\n",
       "ActualElapsedTime         float64         float64\n",
       "AirTime                   float64         float64\n",
       "ArrDelay                  float64         float64\n",
       "ArrTime                   float64           int32\n",
       "CRSArrTime                  int64           int32\n",
       "CRSDepTime                  int64           int32\n",
       "CRSElapsedTime            float64         float64\n",
       "CancellationCode         category          object\n",
       "Cancelled                    bool            bool\n",
       "CarrierDelay              float64           int32\n",
       "DayOfWeek                   int64           int32\n",
       "DayofMonth                  int64           int32\n",
       "DepDelay                  float64         float64\n",
       "DepTime                   float64           int32\n",
       "Dest                     category          object\n",
       "Distance                    int64           int32\n",
       "Diverted                     bool            bool\n",
       "FlightNum                   int64           int32\n",
       "LateAircraftDelay         float64           int32\n",
       "Month                       int64           int32\n",
       "NASDelay                  float64           int32\n",
       "Origin                   category          object\n",
       "SecurityDelay             float64           int32\n",
       "TailNum                  category          object\n",
       "TaxiIn                      int64           int32\n",
       "TaxiOut                     int64           int32\n",
       "UniqueCarrier            category          object\n",
       "WeatherDelay              float64           int32\n",
       "YEAR                        int64           int32\n",
       "ts                 datetime64[ns]  datetime64[ns]"
      ]
     },
     "execution_count": 46,
     "metadata": {},
     "output_type": "execute_result"
    }
   ],
   "source": [
    "pd.DataFrame([df_t.dtypes.sort_index(), df_n.dtypes]).T"
   ]
  },
  {
   "cell_type": "code",
   "execution_count": 47,
   "metadata": {},
   "outputs": [
    {
     "data": {
      "text/plain": [
       "19233312"
      ]
     },
     "execution_count": 47,
     "metadata": {},
     "output_type": "execute_result"
    }
   ],
   "source": [
    "df_t.memory_usage().sum()"
   ]
  },
  {
   "cell_type": "code",
   "execution_count": 48,
   "metadata": {},
   "outputs": [
    {
     "data": {
      "text/plain": [
       "15800080"
      ]
     },
     "execution_count": 48,
     "metadata": {},
     "output_type": "execute_result"
    }
   ],
   "source": [
    "df_n.memory_usage().sum()"
   ]
  }
 ],
 "metadata": {
  "kernelspec": {
   "display_name": "Python 3",
   "language": "python",
   "name": "python3"
  },
  "language_info": {
   "codemirror_mode": {
    "name": "ipython",
    "version": 3
   },
   "file_extension": ".py",
   "mimetype": "text/x-python",
   "name": "python",
   "nbconvert_exporter": "python",
   "pygments_lexer": "ipython3",
   "version": "3.6.1"
  }
 },
 "nbformat": 4,
 "nbformat_minor": 2
}
